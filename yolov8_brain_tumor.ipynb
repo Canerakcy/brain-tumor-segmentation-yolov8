{
 "cells": [
  {
   "cell_type": "markdown",
   "metadata": {},
   "source": [
    "# YOLOv8 ile Beyin Tümörü Nesne Algılama Eğitimi\n",
    "\n",
    "Bu notebook'ta Anaconda ortamında **YOLOv8** modeli ile Roboflow’dan indirilen beyin tümörü veri seti üzerinde nesne algılama modeli eğitimi yapılacaktır.\n",
    "\n",
    "---\n",
    "\n",
    "### Ortam kurulumu için terminal komutları (Anaconda Prompt / Terminal):\n",
    "\n",
    "```bash\n",
    "conda create -n yolov8env python=3.10 -y\n",
    "conda activate yolov8env\n",
    "pip install ultralytics roboflow opencv-python matplotlib notebook\n",
    "jupyter notebook\n",
    "```\n",
    "\n",
    "> Yukarıdaki komutları çalıştırarak gerekli Python ortamını oluşturup gerekli paketleri yükleyin.  \n",
    "> Sonra Jupyter Notebook’u başlatarak bu dosyayı açabilirsiniz."
   ]
  },
  {
   "cell_type": "code",
   "execution_count": null,
   "metadata": {},
   "outputs": [],
   "source": [
    "# Gerekli kütüphaneleri içe aktaralım\n",
    "from ultralytics import YOLO\n",
    "from roboflow import Roboflow\n",
    "import cv2\n",
    "from matplotlib import pyplot as plt\n"
   ]
  },
  {
   "cell_type": "code",
   "execution_count": null,
   "metadata": {},
   "outputs": [],
   "source": [
    "# Roboflow API anahtarınızı ve workspace bilgilerinizi girin\n",
    "\n",
    "API_KEY = \"BURAYA_KENDI_API_ANAHTARINIZI_YAZIN\"\n",
    "WORKSPACE = \"iotseecs\"  # Roboflow workspace ismi\n",
    "PROJECT = \"brain-tumor-yzzav\"  # Veri seti projesi ismi\n",
    "VERSION = 1  # Veri seti versiyonu\n",
    "\n",
    "# Roboflow ile bağlantı ve veri setini indirme\n",
    "rf = Roboflow(api_key=API_KEY)\n",
    "project = rf.workspace(WORKSPACE).project(PROJECT)\n",
    "dataset = project.version(VERSION).download(\"yolov8\")\n",
    "\n",
    "print(f\"Veri seti başarıyla indirildi: {dataset.location}\")"
   ]
  },
  {
   "cell_type": "code",
   "execution_count": null,
   "metadata": {},
   "outputs": [],
   "source": [
    "# YOLOv8 küçük modeli yükleniyor (küçük ve hızlı)\n",
    "model = YOLO(\"yolov8n.pt\")"
   ]
  },
  {
   "cell_type": "code",
   "execution_count": null,
   "metadata": {},
   "outputs": [],
   "source": [
    "# Modelimizi indirilen veri seti üzerinde eğitelim\n",
    "\n",
    "# data.yaml dosyasının tam yolu:\n",
    "data_yaml_path = dataset.location + \"/data.yaml\"\n",
    "\n",
    "# Eğitim parametreleri\n",
    "EPOCHS = 30\n",
    "IMAGE_SIZE = 640\n",
    "\n",
    "model.train(data=data_yaml_path, epochs=EPOCHS, imgsz=IMAGE_SIZE)"
   ]
  },
  {
   "cell_type": "code",
   "execution_count": null,
   "metadata": {},
   "outputs": [],
   "source": [
    "# Test klasöründeki görsellerde tahmin yapalım ve sonuçları kaydedelim\n",
    "test_images_path = dataset.location + \"/test/images\"\n",
    "\n",
    "results = model.predict(source=test_images_path, save=True, conf=0.5)"
   ]
  },
  {
   "cell_type": "code",
   "execution_count": null,
   "metadata": {},
   "outputs": [],
   "source": [
    "# Tahmin edilen görseller \"runs/detect/predict\" klasörüne kaydedilir\n",
    "\n",
    "# Örnek bir tahmin görselini gösterelim:\n",
    "img_path = \"runs/detect/predict/image1.jpg\"  \n",
    "\n",
    "img = cv2.imread(img_path)\n",
    "plt.imshow(cv2.cvtColor(img, cv2.COLOR_BGR2RGB))\n",
    "plt.axis(\"off\")\n",
    "plt.title(\"YOLOv8 Tahmin Sonucu\")\n",
    "plt.show()"
   ]
  }
 ],
 "metadata": {
  "kernelspec": {
   "display_name": "Python 3",
   "language": "python",
   "name": "python3"
  },
  "language_info": {
   "codemirror_mode": {
    "name": "ipython",
    "version": 3
   },
   "file_extension": ".py",
   "mimetype": "text/x-python",
   "name": "python",
   "nbconvert_exporter": "python",
   "pygments_lexer": "ipython3",
   "version": "3.10.12"
  }
 },
 "nbformat": 4,
 "nbformat_minor": 5
}
