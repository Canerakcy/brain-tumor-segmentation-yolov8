{
  "cells": [
    {
      "cell_type": "code",
      "execution_count": null,
      "metadata": {},
      "outputs": [],
      "source": [
        "!pip install ultralytics roboflow opencv-python matplotlib --quiet"
      ]
    },
    {
      "cell_type": "code",
      "execution_count": null,
      "metadata": {},
      "outputs": [],
      "source": [
        "from roboflow import Roboflow\n",
        "\n",
        "# Kendi API anahtar\u0131n\u0131 ve workspace ismini yazmay\u0131 unutma\n",
        "rf = Roboflow(api_key=\"YOUR_API_KEY\")  \n",
        "project = rf.workspace(\"YOUR_WORKSPACE\").project(\"brain-tumor-yzzav\")\n",
        "dataset = project.version(1).download(\"yolov8\")\n",
        "\n",
        "print(f\"Dataset klas\u00f6r\u00fc: {dataset.location}\")"
      ]
    },
    {
      "cell_type": "code",
      "execution_count": null,
      "metadata": {},
      "outputs": [],
      "source": [
        "from ultralytics import YOLO\n",
        "\n",
        "model = YOLO(\"yolov8n.pt\")"
      ]
    },
    {
      "cell_type": "code",
      "execution_count": null,
      "metadata": {},
      "outputs": [],
      "source": [
        "# data.yaml dosyas\u0131n\u0131 ve di\u011fer parametreleri kullanarak e\u011fitimi ba\u015flat\u0131yoruz\n",
        "model.train(data=dataset.location + \"/data.yaml\", epochs=30, imgsz=640)"
      ]
    },
    {
      "cell_type": "code",
      "execution_count": null,
      "metadata": {},
      "outputs": [],
      "source": [
        "results = model.predict(source=dataset.location + \"/test/images\", save=True, conf=0.5)"
      ]
    },
    {
      "cell_type": "code",
      "execution_count": null,
      "metadata": {},
      "outputs": [],
      "source": [
        "import cv2\n",
        "from matplotlib import pyplot as plt\n",
        "\n",
        "# 'runs/detect/predict/' klas\u00f6r\u00fcnde kaydedilen ilk g\u00f6r\u00fcnt\u00fcy\u00fc al\u0131yoruz\n",
        "img = cv2.imread(\"runs/detect/predict/image1.jpg\")\n",
        "plt.imshow(cv2.cvtColor(img, cv2.COLOR_BGR2RGB))\n",
        "plt.axis(\"off\")\n",
        "plt.show()"
      ]
    }
  ],
  "metadata": {
    "kernelspec": {
      "display_name": "Python 3",
      "language": "python",
      "name": "python3"
    },
    "language_info": {
      "codemirror_mode": {
        "name": "ipython",
        "version": 3
      },
      "file_extension": ".py",
      "mimetype": "text/x-python",
      "name": "python",
      "nbconvert_exporter": "python",
      "pygments_lexer": "ipython3",
      "version": "3.10.12"
    }
  },
  "nbformat": 4,
  "nbformat_minor": 5
}
